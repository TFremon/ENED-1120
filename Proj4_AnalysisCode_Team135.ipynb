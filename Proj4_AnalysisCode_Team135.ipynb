{
  "nbformat": 4,
  "nbformat_minor": 0,
  "metadata": {
    "colab": {
      "name": "Proj4_AnalysisCode_Team135.ipynb",
      "provenance": [],
      "collapsed_sections": [],
      "authorship_tag": "ABX9TyP+KSprRhr7U+xVZ8ToNYo0",
      "include_colab_link": true
    },
    "kernelspec": {
      "name": "python3",
      "display_name": "Python 3"
    },
    "language_info": {
      "name": "python"
    }
  },
  "cells": [
    {
      "cell_type": "markdown",
      "metadata": {
        "id": "view-in-github",
        "colab_type": "text"
      },
      "source": [
        "<a href=\"https://colab.research.google.com/github/TFremon/ENED-1120/blob/main/Proj4_AnalysisCode_Team135.ipynb\" target=\"_parent\"><img src=\"https://colab.research.google.com/assets/colab-badge.svg\" alt=\"Open In Colab\"/></a>"
      ]
    },
    {
      "cell_type": "code",
      "execution_count": 100,
      "metadata": {
        "id": "qy4c_ma8DsBD"
      },
      "outputs": [],
      "source": [
        "#Imports\n",
        "import math\n",
        "import numpy as np\n",
        "from plotly.subplots import make_subplots\n",
        "from scipy.optimize import minimize\n",
        "import plotly.io as pio\n",
        "pio.templates.default='plotly_dark'"
      ]
    },
    {
      "cell_type": "markdown",
      "source": [
        "TO DO\n",
        "\n",
        "\n",
        "\n",
        "*   logic to creat x, y from first column in csv\n",
        "\n",
        "\n",
        "*   Add standard deviation, mean errors for each test\n",
        "* set up user prompt for loc\n",
        "\n"
      ],
      "metadata": {
        "id": "QEzZaoTSWTNB"
      }
    },
    {
      "cell_type": "code",
      "source": [
        "# Data get\n",
        "!wget https://raw.githubusercontent.com/TFremon/ENED-1120/main/Proj4_Data_Team135.csv\n"
      ],
      "metadata": {
        "id": "91DY1sRqEHXu",
        "colab": {
          "base_uri": "https://localhost:8080/"
        },
        "outputId": "206054b5-76eb-4e44-b34a-07c8504308d4"
      },
      "execution_count": 101,
      "outputs": [
        {
          "output_type": "stream",
          "name": "stdout",
          "text": [
            "--2022-03-08 22:17:03--  https://raw.githubusercontent.com/TFremon/ENED-1120/main/Proj4_Data_Team135.csv\n",
            "Resolving raw.githubusercontent.com (raw.githubusercontent.com)... 185.199.108.133, 185.199.111.133, 185.199.110.133, ...\n",
            "Connecting to raw.githubusercontent.com (raw.githubusercontent.com)|185.199.108.133|:443... connected.\n",
            "HTTP request sent, awaiting response... 200 OK\n",
            "Length: 472 [text/plain]\n",
            "Saving to: ‘Proj4_Data_Team135.csv’\n",
            "\n",
            "\rProj4_Data_Team135.   0%[                    ]       0  --.-KB/s               \rProj4_Data_Team135. 100%[===================>]     472  --.-KB/s    in 0s      \n",
            "\n",
            "2022-03-08 22:17:03 (15.5 MB/s) - ‘Proj4_Data_Team135.csv’ saved [472/472]\n",
            "\n"
          ]
        }
      ]
    },
    {
      "cell_type": "code",
      "source": [
        "# Get data, create array\n",
        "data = np.loadtxt('Proj4_Data_Team135.csv', delimiter=',')\n",
        "data"
      ],
      "metadata": {
        "id": "v5bnpPtsEl2x",
        "colab": {
          "base_uri": "https://localhost:8080/"
        },
        "outputId": "44460409-f3ea-4fa8-bbde-39890bae69ff"
      },
      "execution_count": 102,
      "outputs": [
        {
          "output_type": "execute_result",
          "data": {
            "text/plain": [
              "array([[  1.  ,  -1.5 ,   0.5 ],\n",
              "       [  1.  ,  -1.  ,   0.5 ],\n",
              "       [  1.  ,  -1.75,   0.25],\n",
              "       [  1.  ,  -1.5 ,   0.5 ],\n",
              "       [  1.  ,  -1.  ,   0.75],\n",
              "       [  2.  ,  -8.5 ,   0.5 ],\n",
              "       [  2.  ,  -9.5 ,   4.5 ],\n",
              "       [  2.  ,  -8.5 ,   2.5 ],\n",
              "       [  2.  ,  -6.75,   2.5 ],\n",
              "       [  2.  ,  -7.5 ,   3.75],\n",
              "       [  3.  , -18.  , -10.  ],\n",
              "       [  3.  , -16.  , -13.  ],\n",
              "       [  3.  , -22.  , -16.  ],\n",
              "       [  3.  , -20.  , -10.  ],\n",
              "       [  3.  , -16.  , -14.  ],\n",
              "       [  4.  , -24.  , -23.  ],\n",
              "       [  4.  , -28.  , -24.  ],\n",
              "       [  4.  , -24.  , -23.  ],\n",
              "       [  4.  , -23.  , -24.  ],\n",
              "       [  4.  , -22.  , -25.  ],\n",
              "       [  5.  ,   1.  ,  -1.  ],\n",
              "       [  5.  ,   1.  ,  -1.75],\n",
              "       [  5.  ,   1.5 ,  -1.  ],\n",
              "       [  5.  ,   1.5 ,  -2.  ],\n",
              "       [  5.  ,   2.  ,  -1.5 ],\n",
              "       [  6.  ,  -0.25,  -5.5 ],\n",
              "       [  6.  ,  -1.5 ,  -4.75],\n",
              "       [  6.  ,  -2.5 ,  -4.5 ],\n",
              "       [  6.  ,  -2.  ,  -4.5 ],\n",
              "       [  6.  ,  -1.5 ,  -4.75],\n",
              "       [  7.  , -13.  ,  -8.  ],\n",
              "       [  7.  , -17.  , -10.75],\n",
              "       [  7.  , -15.  ,  -9.  ],\n",
              "       [  7.  , -18.  , -12.5 ],\n",
              "       [  7.  , -12.  ,  -7.25],\n",
              "       [  8.  , -20.  , -23.75],\n",
              "       [  8.  , -18.  , -19.25],\n",
              "       [  8.  , -22.  , -26.25],\n",
              "       [  8.  , -21.  , -24.  ],\n",
              "       [  8.  , -21.  , -24.5 ]])"
            ]
          },
          "metadata": {},
          "execution_count": 102
        }
      ]
    },
    {
      "cell_type": "code",
      "source": [
        "# convert test # to corresponding x/y coords\n",
        "# create x, y value lists\n",
        "x = []\n",
        "y = []\n",
        "for i in range (len(data)):\n",
        "  #append y or x for tests 1-4, 5-8\n",
        "  if data[i][0] > 0 and data[i][0] < 5:\n",
        "    x.append(0)\n",
        "    if data[i][0] == 1:\n",
        "      y.append(12)\n",
        "    elif data[i][0] == 2:\n",
        "      y.append(36)\n",
        "    elif data[i][0] == 3:\n",
        "      y.append(60)\n",
        "    elif data[i][0] == 4:\n",
        "      y.append(84)\n",
        "  else:\n",
        "    y.append(12)\n",
        "    if data[i][0] == 5:\n",
        "      x.append(12)\n",
        "    elif data[i][0] == 6:\n",
        "      x.append(24)\n",
        "    elif data[i][0] == 7:\n",
        "      x.append(48)\n",
        "    elif data[i][0] == 8:\n",
        "      x.append(96)\n",
        "\n",
        "#error columns\n",
        "x_error = data[:,1]\n",
        "y_error = data[:,2]\n",
        "\n",
        "y_error\n",
        "\n"
      ],
      "metadata": {
        "id": "1iF501Ofk_Jr",
        "colab": {
          "base_uri": "https://localhost:8080/"
        },
        "outputId": "ac4d3308-688f-458a-9500-85f15caac9e8"
      },
      "execution_count": 103,
      "outputs": [
        {
          "output_type": "execute_result",
          "data": {
            "text/plain": [
              "array([  0.5 ,   0.5 ,   0.25,   0.5 ,   0.75,   0.5 ,   4.5 ,   2.5 ,\n",
              "         2.5 ,   3.75, -10.  , -13.  , -16.  , -10.  , -14.  , -23.  ,\n",
              "       -24.  , -23.  , -24.  , -25.  ,  -1.  ,  -1.75,  -1.  ,  -2.  ,\n",
              "        -1.5 ,  -5.5 ,  -4.75,  -4.5 ,  -4.5 ,  -4.75,  -8.  , -10.75,\n",
              "        -9.  , -12.5 ,  -7.25, -23.75, -19.25, -26.25, -24.  , -24.5 ])"
            ]
          },
          "metadata": {},
          "execution_count": 103
        }
      ]
    },
    {
      "cell_type": "code",
      "source": [
        "#REMOVE###########################################\n",
        "#Test data generation\n",
        "#x error is polynomial\n",
        "#y error is linear\n",
        "#x = np.linspace(0, 12, 100)\n",
        "#y = np.linspace(12, 96, 100)\n",
        "#x_error = []\n",
        "#y_error = []\n",
        "#for i in range(len(x)):\n",
        "# x_error.append(-np.random.ranf()*x[i]**(np.random.ranf()*3))\n",
        "#for e in range(len(y)):\n",
        "#  y_error.append(0.1*-np.random.ranf()*y[e])\n",
        "#x_error = np.array(x_error)\n",
        "#y_error = np.array(y_error)\n",
        "\n",
        "#t_data = [x, y, x_error, y_error]\n"
      ],
      "metadata": {
        "id": "f64guco7FDqs"
      },
      "execution_count": 104,
      "outputs": []
    },
    {
      "cell_type": "code",
      "source": [
        "#store displacement list\n",
        "displacement = []\n",
        "for i in range(len(x)):\n",
        "  displacement.append((np.sqrt(x[i]**2 + y[i]**2)))\n",
        "displacement"
      ],
      "metadata": {
        "id": "AjhkRiafT3Y3",
        "colab": {
          "base_uri": "https://localhost:8080/"
        },
        "outputId": "f90ebc60-a107-47e7-a92b-cc8d70ba8851"
      },
      "execution_count": 105,
      "outputs": [
        {
          "output_type": "execute_result",
          "data": {
            "text/plain": [
              "[12.0,\n",
              " 12.0,\n",
              " 12.0,\n",
              " 12.0,\n",
              " 12.0,\n",
              " 36.0,\n",
              " 36.0,\n",
              " 36.0,\n",
              " 36.0,\n",
              " 36.0,\n",
              " 60.0,\n",
              " 60.0,\n",
              " 60.0,\n",
              " 60.0,\n",
              " 60.0,\n",
              " 84.0,\n",
              " 84.0,\n",
              " 84.0,\n",
              " 84.0,\n",
              " 84.0,\n",
              " 16.97056274847714,\n",
              " 16.97056274847714,\n",
              " 16.97056274847714,\n",
              " 16.97056274847714,\n",
              " 16.97056274847714,\n",
              " 26.832815729997478,\n",
              " 26.832815729997478,\n",
              " 26.832815729997478,\n",
              " 26.832815729997478,\n",
              " 26.832815729997478,\n",
              " 49.47726750741192,\n",
              " 49.47726750741192,\n",
              " 49.47726750741192,\n",
              " 49.47726750741192,\n",
              " 49.47726750741192,\n",
              " 96.74709297958259,\n",
              " 96.74709297958259,\n",
              " 96.74709297958259,\n",
              " 96.74709297958259,\n",
              " 96.74709297958259]"
            ]
          },
          "metadata": {},
          "execution_count": 105
        }
      ]
    },
    {
      "cell_type": "code",
      "source": [
        "# create sse functions\n",
        "# assumes linear change for both x, y errors\n",
        "# returns assumes errors are result of total displacement\n",
        "# first fun is x sse, second return is y sse\n",
        "def sse_x(v):\n",
        "  mx, bx = v\n",
        "  sum = 0\n",
        "  for i in range(len(displacement)):\n",
        "    sum = sum + (((mx*displacement[i]+bx - x_error[i])**2))\n",
        "\n",
        "  return sum\n",
        "\n",
        "def sse_y(v):\n",
        "  my, by = v\n",
        "  sum = 0\n",
        "  for i in range(len(x)):\n",
        "    sum = sum + (((my*displacement[i]+by - y_error[i])**2))\n",
        "\n",
        "\n",
        "\n",
        "  return sum"
      ],
      "metadata": {
        "id": "nnKdosh9H-t-"
      },
      "execution_count": 106,
      "outputs": []
    },
    {
      "cell_type": "code",
      "source": [
        "#determine mx, bx, my, b parameters through minimization of sse funs\n",
        "mx, bx = minimize(sse_x,[1,1]).x\n",
        "my, by = minimize(sse_y,[1,1]).x"
      ],
      "metadata": {
        "id": "6s0Faay0RRxz"
      },
      "execution_count": 107,
      "outputs": []
    },
    {
      "cell_type": "code",
      "source": [
        "#error prediction using parameters\n",
        "def error_predict(loc):\n",
        "  x, y = loc\n",
        "\n",
        "  return((mx*x + bx), (my*y + by))\n"
      ],
      "metadata": {
        "id": "hEJaSjcEUgJp"
      },
      "execution_count": 108,
      "outputs": []
    },
    {
      "cell_type": "code",
      "source": [
        "#error models\n",
        "y_model = []\n",
        "x_model = []\n",
        "for i in range(len(x)):\n",
        "  y_model.append(my*displacement[i] + by)\n",
        "  x_model.append(mx*displacement[i] + bx)\n"
      ],
      "metadata": {
        "id": "cvss4bfukwLG"
      },
      "execution_count": 109,
      "outputs": []
    },
    {
      "cell_type": "code",
      "source": [
        "#y error model\n",
        "figure = make_subplots()\n",
        "figure.add_scatter(x = displacement, y = y_error, mode = 'markers', name = 'y error')\n",
        "figure.add_scatter(x = displacement, y = y_model, name = 'y error model')\n"
      ],
      "metadata": {
        "id": "kioMyhI0Sa2W",
        "colab": {
          "base_uri": "https://localhost:8080/",
          "height": 542
        },
        "outputId": "bed23ecb-9d64-4107-ae0b-33b61a808573"
      },
      "execution_count": 110,
      "outputs": [
        {
          "output_type": "display_data",
          "data": {
            "text/html": [
              "<html>\n",
              "<head><meta charset=\"utf-8\" /></head>\n",
              "<body>\n",
              "    <div>            <script src=\"https://cdnjs.cloudflare.com/ajax/libs/mathjax/2.7.5/MathJax.js?config=TeX-AMS-MML_SVG\"></script><script type=\"text/javascript\">if (window.MathJax) {MathJax.Hub.Config({SVG: {font: \"STIX-Web\"}});}</script>                <script type=\"text/javascript\">window.PlotlyConfig = {MathJaxConfig: 'local'};</script>\n",
              "        <script src=\"https://cdn.plot.ly/plotly-2.8.3.min.js\"></script>                <div id=\"eb216c01-7f8d-48d3-92ba-8354e0275693\" class=\"plotly-graph-div\" style=\"height:525px; width:100%;\"></div>            <script type=\"text/javascript\">                                    window.PLOTLYENV=window.PLOTLYENV || {};                                    if (document.getElementById(\"eb216c01-7f8d-48d3-92ba-8354e0275693\")) {                    Plotly.newPlot(                        \"eb216c01-7f8d-48d3-92ba-8354e0275693\",                        [{\"mode\":\"markers\",\"name\":\"y error\",\"x\":[12.0,12.0,12.0,12.0,12.0,36.0,36.0,36.0,36.0,36.0,60.0,60.0,60.0,60.0,60.0,84.0,84.0,84.0,84.0,84.0,16.97056274847714,16.97056274847714,16.97056274847714,16.97056274847714,16.97056274847714,26.832815729997478,26.832815729997478,26.832815729997478,26.832815729997478,26.832815729997478,49.47726750741192,49.47726750741192,49.47726750741192,49.47726750741192,49.47726750741192,96.74709297958259,96.74709297958259,96.74709297958259,96.74709297958259,96.74709297958259],\"y\":[0.5,0.5,0.25,0.5,0.75,0.5,4.5,2.5,2.5,3.75,-10.0,-13.0,-16.0,-10.0,-14.0,-23.0,-24.0,-23.0,-24.0,-25.0,-1.0,-1.75,-1.0,-2.0,-1.5,-5.5,-4.75,-4.5,-4.5,-4.75,-8.0,-10.75,-9.0,-12.5,-7.25,-23.75,-19.25,-26.25,-24.0,-24.5],\"type\":\"scatter\"},{\"name\":\"y error model\",\"x\":[12.0,12.0,12.0,12.0,12.0,36.0,36.0,36.0,36.0,36.0,60.0,60.0,60.0,60.0,60.0,84.0,84.0,84.0,84.0,84.0,16.97056274847714,16.97056274847714,16.97056274847714,16.97056274847714,16.97056274847714,26.832815729997478,26.832815729997478,26.832815729997478,26.832815729997478,26.832815729997478,49.47726750741192,49.47726750741192,49.47726750741192,49.47726750741192,49.47726750741192,96.74709297958259,96.74709297958259,96.74709297958259,96.74709297958259,96.74709297958259],\"y\":[2.1610922628566325,2.1610922628566325,2.1610922628566325,2.1610922628566325,2.1610922628566325,-5.368700801986262,-5.368700801986262,-5.368700801986262,-5.368700801986262,-5.368700801986262,-12.898493866829153,-12.898493866829153,-12.898493866829153,-12.898493866829153,-12.898493866829153,-20.428286931672048,-20.428286931672048,-20.428286931672048,-20.428286931672048,-20.428286931672048,0.6016210581962325,0.6016210581962325,0.6016210581962325,0.6016210581962325,0.6016210581962325,-2.492575779469518,-2.492575779469518,-2.492575779469518,-2.492575779469518,-2.492575779469518,-9.59707727741721,-9.59707727741721,-9.59707727741721,-9.59707727741721,-9.59707727741721,-24.427577444779068,-24.427577444779068,-24.427577444779068,-24.427577444779068,-24.427577444779068],\"type\":\"scatter\"}],                        {\"template\":{\"data\":{\"bar\":[{\"error_x\":{\"color\":\"#f2f5fa\"},\"error_y\":{\"color\":\"#f2f5fa\"},\"marker\":{\"line\":{\"color\":\"rgb(17,17,17)\",\"width\":0.5},\"pattern\":{\"fillmode\":\"overlay\",\"size\":10,\"solidity\":0.2}},\"type\":\"bar\"}],\"barpolar\":[{\"marker\":{\"line\":{\"color\":\"rgb(17,17,17)\",\"width\":0.5},\"pattern\":{\"fillmode\":\"overlay\",\"size\":10,\"solidity\":0.2}},\"type\":\"barpolar\"}],\"carpet\":[{\"aaxis\":{\"endlinecolor\":\"#A2B1C6\",\"gridcolor\":\"#506784\",\"linecolor\":\"#506784\",\"minorgridcolor\":\"#506784\",\"startlinecolor\":\"#A2B1C6\"},\"baxis\":{\"endlinecolor\":\"#A2B1C6\",\"gridcolor\":\"#506784\",\"linecolor\":\"#506784\",\"minorgridcolor\":\"#506784\",\"startlinecolor\":\"#A2B1C6\"},\"type\":\"carpet\"}],\"choropleth\":[{\"colorbar\":{\"outlinewidth\":0,\"ticks\":\"\"},\"type\":\"choropleth\"}],\"contour\":[{\"colorbar\":{\"outlinewidth\":0,\"ticks\":\"\"},\"colorscale\":[[0.0,\"#0d0887\"],[0.1111111111111111,\"#46039f\"],[0.2222222222222222,\"#7201a8\"],[0.3333333333333333,\"#9c179e\"],[0.4444444444444444,\"#bd3786\"],[0.5555555555555556,\"#d8576b\"],[0.6666666666666666,\"#ed7953\"],[0.7777777777777778,\"#fb9f3a\"],[0.8888888888888888,\"#fdca26\"],[1.0,\"#f0f921\"]],\"type\":\"contour\"}],\"contourcarpet\":[{\"colorbar\":{\"outlinewidth\":0,\"ticks\":\"\"},\"type\":\"contourcarpet\"}],\"heatmap\":[{\"colorbar\":{\"outlinewidth\":0,\"ticks\":\"\"},\"colorscale\":[[0.0,\"#0d0887\"],[0.1111111111111111,\"#46039f\"],[0.2222222222222222,\"#7201a8\"],[0.3333333333333333,\"#9c179e\"],[0.4444444444444444,\"#bd3786\"],[0.5555555555555556,\"#d8576b\"],[0.6666666666666666,\"#ed7953\"],[0.7777777777777778,\"#fb9f3a\"],[0.8888888888888888,\"#fdca26\"],[1.0,\"#f0f921\"]],\"type\":\"heatmap\"}],\"heatmapgl\":[{\"colorbar\":{\"outlinewidth\":0,\"ticks\":\"\"},\"colorscale\":[[0.0,\"#0d0887\"],[0.1111111111111111,\"#46039f\"],[0.2222222222222222,\"#7201a8\"],[0.3333333333333333,\"#9c179e\"],[0.4444444444444444,\"#bd3786\"],[0.5555555555555556,\"#d8576b\"],[0.6666666666666666,\"#ed7953\"],[0.7777777777777778,\"#fb9f3a\"],[0.8888888888888888,\"#fdca26\"],[1.0,\"#f0f921\"]],\"type\":\"heatmapgl\"}],\"histogram\":[{\"marker\":{\"pattern\":{\"fillmode\":\"overlay\",\"size\":10,\"solidity\":0.2}},\"type\":\"histogram\"}],\"histogram2d\":[{\"colorbar\":{\"outlinewidth\":0,\"ticks\":\"\"},\"colorscale\":[[0.0,\"#0d0887\"],[0.1111111111111111,\"#46039f\"],[0.2222222222222222,\"#7201a8\"],[0.3333333333333333,\"#9c179e\"],[0.4444444444444444,\"#bd3786\"],[0.5555555555555556,\"#d8576b\"],[0.6666666666666666,\"#ed7953\"],[0.7777777777777778,\"#fb9f3a\"],[0.8888888888888888,\"#fdca26\"],[1.0,\"#f0f921\"]],\"type\":\"histogram2d\"}],\"histogram2dcontour\":[{\"colorbar\":{\"outlinewidth\":0,\"ticks\":\"\"},\"colorscale\":[[0.0,\"#0d0887\"],[0.1111111111111111,\"#46039f\"],[0.2222222222222222,\"#7201a8\"],[0.3333333333333333,\"#9c179e\"],[0.4444444444444444,\"#bd3786\"],[0.5555555555555556,\"#d8576b\"],[0.6666666666666666,\"#ed7953\"],[0.7777777777777778,\"#fb9f3a\"],[0.8888888888888888,\"#fdca26\"],[1.0,\"#f0f921\"]],\"type\":\"histogram2dcontour\"}],\"mesh3d\":[{\"colorbar\":{\"outlinewidth\":0,\"ticks\":\"\"},\"type\":\"mesh3d\"}],\"parcoords\":[{\"line\":{\"colorbar\":{\"outlinewidth\":0,\"ticks\":\"\"}},\"type\":\"parcoords\"}],\"pie\":[{\"automargin\":true,\"type\":\"pie\"}],\"scatter\":[{\"marker\":{\"line\":{\"color\":\"#283442\"}},\"type\":\"scatter\"}],\"scatter3d\":[{\"line\":{\"colorbar\":{\"outlinewidth\":0,\"ticks\":\"\"}},\"marker\":{\"colorbar\":{\"outlinewidth\":0,\"ticks\":\"\"}},\"type\":\"scatter3d\"}],\"scattercarpet\":[{\"marker\":{\"colorbar\":{\"outlinewidth\":0,\"ticks\":\"\"}},\"type\":\"scattercarpet\"}],\"scattergeo\":[{\"marker\":{\"colorbar\":{\"outlinewidth\":0,\"ticks\":\"\"}},\"type\":\"scattergeo\"}],\"scattergl\":[{\"marker\":{\"line\":{\"color\":\"#283442\"}},\"type\":\"scattergl\"}],\"scattermapbox\":[{\"marker\":{\"colorbar\":{\"outlinewidth\":0,\"ticks\":\"\"}},\"type\":\"scattermapbox\"}],\"scatterpolar\":[{\"marker\":{\"colorbar\":{\"outlinewidth\":0,\"ticks\":\"\"}},\"type\":\"scatterpolar\"}],\"scatterpolargl\":[{\"marker\":{\"colorbar\":{\"outlinewidth\":0,\"ticks\":\"\"}},\"type\":\"scatterpolargl\"}],\"scatterternary\":[{\"marker\":{\"colorbar\":{\"outlinewidth\":0,\"ticks\":\"\"}},\"type\":\"scatterternary\"}],\"surface\":[{\"colorbar\":{\"outlinewidth\":0,\"ticks\":\"\"},\"colorscale\":[[0.0,\"#0d0887\"],[0.1111111111111111,\"#46039f\"],[0.2222222222222222,\"#7201a8\"],[0.3333333333333333,\"#9c179e\"],[0.4444444444444444,\"#bd3786\"],[0.5555555555555556,\"#d8576b\"],[0.6666666666666666,\"#ed7953\"],[0.7777777777777778,\"#fb9f3a\"],[0.8888888888888888,\"#fdca26\"],[1.0,\"#f0f921\"]],\"type\":\"surface\"}],\"table\":[{\"cells\":{\"fill\":{\"color\":\"#506784\"},\"line\":{\"color\":\"rgb(17,17,17)\"}},\"header\":{\"fill\":{\"color\":\"#2a3f5f\"},\"line\":{\"color\":\"rgb(17,17,17)\"}},\"type\":\"table\"}]},\"layout\":{\"annotationdefaults\":{\"arrowcolor\":\"#f2f5fa\",\"arrowhead\":0,\"arrowwidth\":1},\"autotypenumbers\":\"strict\",\"coloraxis\":{\"colorbar\":{\"outlinewidth\":0,\"ticks\":\"\"}},\"colorscale\":{\"diverging\":[[0,\"#8e0152\"],[0.1,\"#c51b7d\"],[0.2,\"#de77ae\"],[0.3,\"#f1b6da\"],[0.4,\"#fde0ef\"],[0.5,\"#f7f7f7\"],[0.6,\"#e6f5d0\"],[0.7,\"#b8e186\"],[0.8,\"#7fbc41\"],[0.9,\"#4d9221\"],[1,\"#276419\"]],\"sequential\":[[0.0,\"#0d0887\"],[0.1111111111111111,\"#46039f\"],[0.2222222222222222,\"#7201a8\"],[0.3333333333333333,\"#9c179e\"],[0.4444444444444444,\"#bd3786\"],[0.5555555555555556,\"#d8576b\"],[0.6666666666666666,\"#ed7953\"],[0.7777777777777778,\"#fb9f3a\"],[0.8888888888888888,\"#fdca26\"],[1.0,\"#f0f921\"]],\"sequentialminus\":[[0.0,\"#0d0887\"],[0.1111111111111111,\"#46039f\"],[0.2222222222222222,\"#7201a8\"],[0.3333333333333333,\"#9c179e\"],[0.4444444444444444,\"#bd3786\"],[0.5555555555555556,\"#d8576b\"],[0.6666666666666666,\"#ed7953\"],[0.7777777777777778,\"#fb9f3a\"],[0.8888888888888888,\"#fdca26\"],[1.0,\"#f0f921\"]]},\"colorway\":[\"#636efa\",\"#EF553B\",\"#00cc96\",\"#ab63fa\",\"#FFA15A\",\"#19d3f3\",\"#FF6692\",\"#B6E880\",\"#FF97FF\",\"#FECB52\"],\"font\":{\"color\":\"#f2f5fa\"},\"geo\":{\"bgcolor\":\"rgb(17,17,17)\",\"lakecolor\":\"rgb(17,17,17)\",\"landcolor\":\"rgb(17,17,17)\",\"showlakes\":true,\"showland\":true,\"subunitcolor\":\"#506784\"},\"hoverlabel\":{\"align\":\"left\"},\"hovermode\":\"closest\",\"mapbox\":{\"style\":\"dark\"},\"paper_bgcolor\":\"rgb(17,17,17)\",\"plot_bgcolor\":\"rgb(17,17,17)\",\"polar\":{\"angularaxis\":{\"gridcolor\":\"#506784\",\"linecolor\":\"#506784\",\"ticks\":\"\"},\"bgcolor\":\"rgb(17,17,17)\",\"radialaxis\":{\"gridcolor\":\"#506784\",\"linecolor\":\"#506784\",\"ticks\":\"\"}},\"scene\":{\"xaxis\":{\"backgroundcolor\":\"rgb(17,17,17)\",\"gridcolor\":\"#506784\",\"gridwidth\":2,\"linecolor\":\"#506784\",\"showbackground\":true,\"ticks\":\"\",\"zerolinecolor\":\"#C8D4E3\"},\"yaxis\":{\"backgroundcolor\":\"rgb(17,17,17)\",\"gridcolor\":\"#506784\",\"gridwidth\":2,\"linecolor\":\"#506784\",\"showbackground\":true,\"ticks\":\"\",\"zerolinecolor\":\"#C8D4E3\"},\"zaxis\":{\"backgroundcolor\":\"rgb(17,17,17)\",\"gridcolor\":\"#506784\",\"gridwidth\":2,\"linecolor\":\"#506784\",\"showbackground\":true,\"ticks\":\"\",\"zerolinecolor\":\"#C8D4E3\"}},\"shapedefaults\":{\"line\":{\"color\":\"#f2f5fa\"}},\"sliderdefaults\":{\"bgcolor\":\"#C8D4E3\",\"bordercolor\":\"rgb(17,17,17)\",\"borderwidth\":1,\"tickwidth\":0},\"ternary\":{\"aaxis\":{\"gridcolor\":\"#506784\",\"linecolor\":\"#506784\",\"ticks\":\"\"},\"baxis\":{\"gridcolor\":\"#506784\",\"linecolor\":\"#506784\",\"ticks\":\"\"},\"bgcolor\":\"rgb(17,17,17)\",\"caxis\":{\"gridcolor\":\"#506784\",\"linecolor\":\"#506784\",\"ticks\":\"\"}},\"title\":{\"x\":0.05},\"updatemenudefaults\":{\"bgcolor\":\"#506784\",\"borderwidth\":0},\"xaxis\":{\"automargin\":true,\"gridcolor\":\"#283442\",\"linecolor\":\"#506784\",\"ticks\":\"\",\"title\":{\"standoff\":15},\"zerolinecolor\":\"#283442\",\"zerolinewidth\":2},\"yaxis\":{\"automargin\":true,\"gridcolor\":\"#283442\",\"linecolor\":\"#506784\",\"ticks\":\"\",\"title\":{\"standoff\":15},\"zerolinecolor\":\"#283442\",\"zerolinewidth\":2}}},\"xaxis\":{\"anchor\":\"y\",\"domain\":[0.0,1.0]},\"yaxis\":{\"anchor\":\"x\",\"domain\":[0.0,1.0]}},                        {\"responsive\": true}                    ).then(function(){\n",
              "                            \n",
              "var gd = document.getElementById('eb216c01-7f8d-48d3-92ba-8354e0275693');\n",
              "var x = new MutationObserver(function (mutations, observer) {{\n",
              "        var display = window.getComputedStyle(gd).display;\n",
              "        if (!display || display === 'none') {{\n",
              "            console.log([gd, 'removed!']);\n",
              "            Plotly.purge(gd);\n",
              "            observer.disconnect();\n",
              "        }}\n",
              "}});\n",
              "\n",
              "// Listen for the removal of the full notebook cells\n",
              "var notebookContainer = gd.closest('#notebook-container');\n",
              "if (notebookContainer) {{\n",
              "    x.observe(notebookContainer, {childList: true});\n",
              "}}\n",
              "\n",
              "// Listen for the clearing of the current output cell\n",
              "var outputEl = gd.closest('.output');\n",
              "if (outputEl) {{\n",
              "    x.observe(outputEl, {childList: true});\n",
              "}}\n",
              "\n",
              "                        })                };                            </script>        </div>\n",
              "</body>\n",
              "</html>"
            ]
          },
          "metadata": {}
        }
      ]
    },
    {
      "cell_type": "code",
      "source": [
        "#x error model\n",
        "figure1 = make_subplots()\n",
        "figure1.add_scatter(x = displacement, y = x_error, mode = 'markers', name = 'x error')\n",
        "figure1.add_scatter(x = displacement, y = x_model, name = 'x error model')"
      ],
      "metadata": {
        "id": "TTdHJzl_UNAB",
        "colab": {
          "base_uri": "https://localhost:8080/",
          "height": 542
        },
        "outputId": "134d1fda-6929-4cd3-9528-e2087b1731be"
      },
      "execution_count": 111,
      "outputs": [
        {
          "output_type": "display_data",
          "data": {
            "text/html": [
              "<html>\n",
              "<head><meta charset=\"utf-8\" /></head>\n",
              "<body>\n",
              "    <div>            <script src=\"https://cdnjs.cloudflare.com/ajax/libs/mathjax/2.7.5/MathJax.js?config=TeX-AMS-MML_SVG\"></script><script type=\"text/javascript\">if (window.MathJax) {MathJax.Hub.Config({SVG: {font: \"STIX-Web\"}});}</script>                <script type=\"text/javascript\">window.PlotlyConfig = {MathJaxConfig: 'local'};</script>\n",
              "        <script src=\"https://cdn.plot.ly/plotly-2.8.3.min.js\"></script>                <div id=\"72431b9a-d216-488a-bf3b-83ed58ff7297\" class=\"plotly-graph-div\" style=\"height:525px; width:100%;\"></div>            <script type=\"text/javascript\">                                    window.PLOTLYENV=window.PLOTLYENV || {};                                    if (document.getElementById(\"72431b9a-d216-488a-bf3b-83ed58ff7297\")) {                    Plotly.newPlot(                        \"72431b9a-d216-488a-bf3b-83ed58ff7297\",                        [{\"mode\":\"markers\",\"name\":\"x error\",\"x\":[12.0,12.0,12.0,12.0,12.0,36.0,36.0,36.0,36.0,36.0,60.0,60.0,60.0,60.0,60.0,84.0,84.0,84.0,84.0,84.0,16.97056274847714,16.97056274847714,16.97056274847714,16.97056274847714,16.97056274847714,26.832815729997478,26.832815729997478,26.832815729997478,26.832815729997478,26.832815729997478,49.47726750741192,49.47726750741192,49.47726750741192,49.47726750741192,49.47726750741192,96.74709297958259,96.74709297958259,96.74709297958259,96.74709297958259,96.74709297958259],\"y\":[-1.5,-1.0,-1.75,-1.5,-1.0,-8.5,-9.5,-8.5,-6.75,-7.5,-18.0,-16.0,-22.0,-20.0,-16.0,-24.0,-28.0,-24.0,-23.0,-22.0,1.0,1.0,1.5,1.5,2.0,-0.25,-1.5,-2.5,-2.0,-1.5,-13.0,-17.0,-15.0,-18.0,-12.0,-20.0,-18.0,-22.0,-21.0,-21.0],\"type\":\"scatter\"},{\"name\":\"x error model\",\"x\":[12.0,12.0,12.0,12.0,12.0,36.0,36.0,36.0,36.0,36.0,60.0,60.0,60.0,60.0,60.0,84.0,84.0,84.0,84.0,84.0,16.97056274847714,16.97056274847714,16.97056274847714,16.97056274847714,16.97056274847714,26.832815729997478,26.832815729997478,26.832815729997478,26.832815729997478,26.832815729997478,49.47726750741192,49.47726750741192,49.47726750741192,49.47726750741192,49.47726750741192,96.74709297958259,96.74709297958259,96.74709297958259,96.74709297958259,96.74709297958259],\"y\":[-0.26352935839204106,-0.26352935839204106,-0.26352935839204106,-0.26352935839204106,-0.26352935839204106,-7.441163363515852,-7.441163363515852,-7.441163363515852,-7.441163363515852,-7.441163363515852,-14.61879736863966,-14.61879736863966,-14.61879736863966,-14.61879736863966,-14.61879736863966,-21.79643137376347,-21.79643137376347,-21.79643137376347,-21.79643137376347,-21.79643137376347,-1.75006603372834,-1.75006603372834,-1.75006603372834,-1.75006603372834,-1.75006603372834,-4.699551132365594,-4.699551132365594,-4.699551132365594,-4.699551132365594,-4.699551132365594,-11.471783928405435,-11.471783928405435,-11.471783928405435,-11.471783928405435,-11.471783928405435,-25.608680041960426,-25.608680041960426,-25.608680041960426,-25.608680041960426,-25.608680041960426],\"type\":\"scatter\"}],                        {\"template\":{\"data\":{\"bar\":[{\"error_x\":{\"color\":\"#f2f5fa\"},\"error_y\":{\"color\":\"#f2f5fa\"},\"marker\":{\"line\":{\"color\":\"rgb(17,17,17)\",\"width\":0.5},\"pattern\":{\"fillmode\":\"overlay\",\"size\":10,\"solidity\":0.2}},\"type\":\"bar\"}],\"barpolar\":[{\"marker\":{\"line\":{\"color\":\"rgb(17,17,17)\",\"width\":0.5},\"pattern\":{\"fillmode\":\"overlay\",\"size\":10,\"solidity\":0.2}},\"type\":\"barpolar\"}],\"carpet\":[{\"aaxis\":{\"endlinecolor\":\"#A2B1C6\",\"gridcolor\":\"#506784\",\"linecolor\":\"#506784\",\"minorgridcolor\":\"#506784\",\"startlinecolor\":\"#A2B1C6\"},\"baxis\":{\"endlinecolor\":\"#A2B1C6\",\"gridcolor\":\"#506784\",\"linecolor\":\"#506784\",\"minorgridcolor\":\"#506784\",\"startlinecolor\":\"#A2B1C6\"},\"type\":\"carpet\"}],\"choropleth\":[{\"colorbar\":{\"outlinewidth\":0,\"ticks\":\"\"},\"type\":\"choropleth\"}],\"contour\":[{\"colorbar\":{\"outlinewidth\":0,\"ticks\":\"\"},\"colorscale\":[[0.0,\"#0d0887\"],[0.1111111111111111,\"#46039f\"],[0.2222222222222222,\"#7201a8\"],[0.3333333333333333,\"#9c179e\"],[0.4444444444444444,\"#bd3786\"],[0.5555555555555556,\"#d8576b\"],[0.6666666666666666,\"#ed7953\"],[0.7777777777777778,\"#fb9f3a\"],[0.8888888888888888,\"#fdca26\"],[1.0,\"#f0f921\"]],\"type\":\"contour\"}],\"contourcarpet\":[{\"colorbar\":{\"outlinewidth\":0,\"ticks\":\"\"},\"type\":\"contourcarpet\"}],\"heatmap\":[{\"colorbar\":{\"outlinewidth\":0,\"ticks\":\"\"},\"colorscale\":[[0.0,\"#0d0887\"],[0.1111111111111111,\"#46039f\"],[0.2222222222222222,\"#7201a8\"],[0.3333333333333333,\"#9c179e\"],[0.4444444444444444,\"#bd3786\"],[0.5555555555555556,\"#d8576b\"],[0.6666666666666666,\"#ed7953\"],[0.7777777777777778,\"#fb9f3a\"],[0.8888888888888888,\"#fdca26\"],[1.0,\"#f0f921\"]],\"type\":\"heatmap\"}],\"heatmapgl\":[{\"colorbar\":{\"outlinewidth\":0,\"ticks\":\"\"},\"colorscale\":[[0.0,\"#0d0887\"],[0.1111111111111111,\"#46039f\"],[0.2222222222222222,\"#7201a8\"],[0.3333333333333333,\"#9c179e\"],[0.4444444444444444,\"#bd3786\"],[0.5555555555555556,\"#d8576b\"],[0.6666666666666666,\"#ed7953\"],[0.7777777777777778,\"#fb9f3a\"],[0.8888888888888888,\"#fdca26\"],[1.0,\"#f0f921\"]],\"type\":\"heatmapgl\"}],\"histogram\":[{\"marker\":{\"pattern\":{\"fillmode\":\"overlay\",\"size\":10,\"solidity\":0.2}},\"type\":\"histogram\"}],\"histogram2d\":[{\"colorbar\":{\"outlinewidth\":0,\"ticks\":\"\"},\"colorscale\":[[0.0,\"#0d0887\"],[0.1111111111111111,\"#46039f\"],[0.2222222222222222,\"#7201a8\"],[0.3333333333333333,\"#9c179e\"],[0.4444444444444444,\"#bd3786\"],[0.5555555555555556,\"#d8576b\"],[0.6666666666666666,\"#ed7953\"],[0.7777777777777778,\"#fb9f3a\"],[0.8888888888888888,\"#fdca26\"],[1.0,\"#f0f921\"]],\"type\":\"histogram2d\"}],\"histogram2dcontour\":[{\"colorbar\":{\"outlinewidth\":0,\"ticks\":\"\"},\"colorscale\":[[0.0,\"#0d0887\"],[0.1111111111111111,\"#46039f\"],[0.2222222222222222,\"#7201a8\"],[0.3333333333333333,\"#9c179e\"],[0.4444444444444444,\"#bd3786\"],[0.5555555555555556,\"#d8576b\"],[0.6666666666666666,\"#ed7953\"],[0.7777777777777778,\"#fb9f3a\"],[0.8888888888888888,\"#fdca26\"],[1.0,\"#f0f921\"]],\"type\":\"histogram2dcontour\"}],\"mesh3d\":[{\"colorbar\":{\"outlinewidth\":0,\"ticks\":\"\"},\"type\":\"mesh3d\"}],\"parcoords\":[{\"line\":{\"colorbar\":{\"outlinewidth\":0,\"ticks\":\"\"}},\"type\":\"parcoords\"}],\"pie\":[{\"automargin\":true,\"type\":\"pie\"}],\"scatter\":[{\"marker\":{\"line\":{\"color\":\"#283442\"}},\"type\":\"scatter\"}],\"scatter3d\":[{\"line\":{\"colorbar\":{\"outlinewidth\":0,\"ticks\":\"\"}},\"marker\":{\"colorbar\":{\"outlinewidth\":0,\"ticks\":\"\"}},\"type\":\"scatter3d\"}],\"scattercarpet\":[{\"marker\":{\"colorbar\":{\"outlinewidth\":0,\"ticks\":\"\"}},\"type\":\"scattercarpet\"}],\"scattergeo\":[{\"marker\":{\"colorbar\":{\"outlinewidth\":0,\"ticks\":\"\"}},\"type\":\"scattergeo\"}],\"scattergl\":[{\"marker\":{\"line\":{\"color\":\"#283442\"}},\"type\":\"scattergl\"}],\"scattermapbox\":[{\"marker\":{\"colorbar\":{\"outlinewidth\":0,\"ticks\":\"\"}},\"type\":\"scattermapbox\"}],\"scatterpolar\":[{\"marker\":{\"colorbar\":{\"outlinewidth\":0,\"ticks\":\"\"}},\"type\":\"scatterpolar\"}],\"scatterpolargl\":[{\"marker\":{\"colorbar\":{\"outlinewidth\":0,\"ticks\":\"\"}},\"type\":\"scatterpolargl\"}],\"scatterternary\":[{\"marker\":{\"colorbar\":{\"outlinewidth\":0,\"ticks\":\"\"}},\"type\":\"scatterternary\"}],\"surface\":[{\"colorbar\":{\"outlinewidth\":0,\"ticks\":\"\"},\"colorscale\":[[0.0,\"#0d0887\"],[0.1111111111111111,\"#46039f\"],[0.2222222222222222,\"#7201a8\"],[0.3333333333333333,\"#9c179e\"],[0.4444444444444444,\"#bd3786\"],[0.5555555555555556,\"#d8576b\"],[0.6666666666666666,\"#ed7953\"],[0.7777777777777778,\"#fb9f3a\"],[0.8888888888888888,\"#fdca26\"],[1.0,\"#f0f921\"]],\"type\":\"surface\"}],\"table\":[{\"cells\":{\"fill\":{\"color\":\"#506784\"},\"line\":{\"color\":\"rgb(17,17,17)\"}},\"header\":{\"fill\":{\"color\":\"#2a3f5f\"},\"line\":{\"color\":\"rgb(17,17,17)\"}},\"type\":\"table\"}]},\"layout\":{\"annotationdefaults\":{\"arrowcolor\":\"#f2f5fa\",\"arrowhead\":0,\"arrowwidth\":1},\"autotypenumbers\":\"strict\",\"coloraxis\":{\"colorbar\":{\"outlinewidth\":0,\"ticks\":\"\"}},\"colorscale\":{\"diverging\":[[0,\"#8e0152\"],[0.1,\"#c51b7d\"],[0.2,\"#de77ae\"],[0.3,\"#f1b6da\"],[0.4,\"#fde0ef\"],[0.5,\"#f7f7f7\"],[0.6,\"#e6f5d0\"],[0.7,\"#b8e186\"],[0.8,\"#7fbc41\"],[0.9,\"#4d9221\"],[1,\"#276419\"]],\"sequential\":[[0.0,\"#0d0887\"],[0.1111111111111111,\"#46039f\"],[0.2222222222222222,\"#7201a8\"],[0.3333333333333333,\"#9c179e\"],[0.4444444444444444,\"#bd3786\"],[0.5555555555555556,\"#d8576b\"],[0.6666666666666666,\"#ed7953\"],[0.7777777777777778,\"#fb9f3a\"],[0.8888888888888888,\"#fdca26\"],[1.0,\"#f0f921\"]],\"sequentialminus\":[[0.0,\"#0d0887\"],[0.1111111111111111,\"#46039f\"],[0.2222222222222222,\"#7201a8\"],[0.3333333333333333,\"#9c179e\"],[0.4444444444444444,\"#bd3786\"],[0.5555555555555556,\"#d8576b\"],[0.6666666666666666,\"#ed7953\"],[0.7777777777777778,\"#fb9f3a\"],[0.8888888888888888,\"#fdca26\"],[1.0,\"#f0f921\"]]},\"colorway\":[\"#636efa\",\"#EF553B\",\"#00cc96\",\"#ab63fa\",\"#FFA15A\",\"#19d3f3\",\"#FF6692\",\"#B6E880\",\"#FF97FF\",\"#FECB52\"],\"font\":{\"color\":\"#f2f5fa\"},\"geo\":{\"bgcolor\":\"rgb(17,17,17)\",\"lakecolor\":\"rgb(17,17,17)\",\"landcolor\":\"rgb(17,17,17)\",\"showlakes\":true,\"showland\":true,\"subunitcolor\":\"#506784\"},\"hoverlabel\":{\"align\":\"left\"},\"hovermode\":\"closest\",\"mapbox\":{\"style\":\"dark\"},\"paper_bgcolor\":\"rgb(17,17,17)\",\"plot_bgcolor\":\"rgb(17,17,17)\",\"polar\":{\"angularaxis\":{\"gridcolor\":\"#506784\",\"linecolor\":\"#506784\",\"ticks\":\"\"},\"bgcolor\":\"rgb(17,17,17)\",\"radialaxis\":{\"gridcolor\":\"#506784\",\"linecolor\":\"#506784\",\"ticks\":\"\"}},\"scene\":{\"xaxis\":{\"backgroundcolor\":\"rgb(17,17,17)\",\"gridcolor\":\"#506784\",\"gridwidth\":2,\"linecolor\":\"#506784\",\"showbackground\":true,\"ticks\":\"\",\"zerolinecolor\":\"#C8D4E3\"},\"yaxis\":{\"backgroundcolor\":\"rgb(17,17,17)\",\"gridcolor\":\"#506784\",\"gridwidth\":2,\"linecolor\":\"#506784\",\"showbackground\":true,\"ticks\":\"\",\"zerolinecolor\":\"#C8D4E3\"},\"zaxis\":{\"backgroundcolor\":\"rgb(17,17,17)\",\"gridcolor\":\"#506784\",\"gridwidth\":2,\"linecolor\":\"#506784\",\"showbackground\":true,\"ticks\":\"\",\"zerolinecolor\":\"#C8D4E3\"}},\"shapedefaults\":{\"line\":{\"color\":\"#f2f5fa\"}},\"sliderdefaults\":{\"bgcolor\":\"#C8D4E3\",\"bordercolor\":\"rgb(17,17,17)\",\"borderwidth\":1,\"tickwidth\":0},\"ternary\":{\"aaxis\":{\"gridcolor\":\"#506784\",\"linecolor\":\"#506784\",\"ticks\":\"\"},\"baxis\":{\"gridcolor\":\"#506784\",\"linecolor\":\"#506784\",\"ticks\":\"\"},\"bgcolor\":\"rgb(17,17,17)\",\"caxis\":{\"gridcolor\":\"#506784\",\"linecolor\":\"#506784\",\"ticks\":\"\"}},\"title\":{\"x\":0.05},\"updatemenudefaults\":{\"bgcolor\":\"#506784\",\"borderwidth\":0},\"xaxis\":{\"automargin\":true,\"gridcolor\":\"#283442\",\"linecolor\":\"#506784\",\"ticks\":\"\",\"title\":{\"standoff\":15},\"zerolinecolor\":\"#283442\",\"zerolinewidth\":2},\"yaxis\":{\"automargin\":true,\"gridcolor\":\"#283442\",\"linecolor\":\"#506784\",\"ticks\":\"\",\"title\":{\"standoff\":15},\"zerolinecolor\":\"#283442\",\"zerolinewidth\":2}}},\"xaxis\":{\"anchor\":\"y\",\"domain\":[0.0,1.0]},\"yaxis\":{\"anchor\":\"x\",\"domain\":[0.0,1.0]}},                        {\"responsive\": true}                    ).then(function(){\n",
              "                            \n",
              "var gd = document.getElementById('72431b9a-d216-488a-bf3b-83ed58ff7297');\n",
              "var x = new MutationObserver(function (mutations, observer) {{\n",
              "        var display = window.getComputedStyle(gd).display;\n",
              "        if (!display || display === 'none') {{\n",
              "            console.log([gd, 'removed!']);\n",
              "            Plotly.purge(gd);\n",
              "            observer.disconnect();\n",
              "        }}\n",
              "}});\n",
              "\n",
              "// Listen for the removal of the full notebook cells\n",
              "var notebookContainer = gd.closest('#notebook-container');\n",
              "if (notebookContainer) {{\n",
              "    x.observe(notebookContainer, {childList: true});\n",
              "}}\n",
              "\n",
              "// Listen for the clearing of the current output cell\n",
              "var outputEl = gd.closest('.output');\n",
              "if (outputEl) {{\n",
              "    x.observe(outputEl, {childList: true});\n",
              "}}\n",
              "\n",
              "                        })                };                            </script>        </div>\n",
              "</body>\n",
              "</html>"
            ]
          },
          "metadata": {}
        }
      ]
    }
  ]
}